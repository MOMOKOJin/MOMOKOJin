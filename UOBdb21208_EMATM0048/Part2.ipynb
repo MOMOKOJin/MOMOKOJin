{
 "cells": [
  {
   "cell_type": "markdown",
   "id": "e02e82a0",
   "metadata": {},
   "source": [
    "# Part 2\n",
    "\n",
    "Input: {1, 2, 3, 5, 4, 7, 10} Output: {7, 5, 3, 1, 2, 4, 10} Input: {0, 4, 5, 3, 7, 2, 1} Output: {7, 5, 3, 1, 0, 2, 4}"
   ]
  },
  {
   "cell_type": "code",
   "execution_count": 2,
   "id": "5f62a800",
   "metadata": {},
   "outputs": [],
   "source": [
    "# a funtion convert a seiries numbers into a list :\n",
    "# with max complexity at O(n)\n",
    "def number_convert2(number_list):\n",
    "    A = number_list.split(',')\n",
    "    #print(A)\n",
    "    B = []\n",
    "    for a in A :\n",
    "        b = int(a)\n",
    "        #print(b)\n",
    "        B.append(b) \n",
    "    return B \n",
    "\n",
    "# a function select numbers in descending order\n",
    "#with max complexity at O(n^2)\n",
    "def sort_list_big(list_new):\n",
    "    \"\"\"\n",
    "    list排序算法.降序排列\n",
    "    :param list_new:列表形参\n",
    "    :return:\n",
    "    \"\"\"\n",
    "    for r in range(len(list_new) - 1):\n",
    "        # make one number a compare with another\n",
    "        for i in range(r + 1, len(list_new)):\n",
    "            # find a bigger one \n",
    "            if list_new[r] < list_new[i]:\n",
    "                # replace a new value \n",
    "                list_new[r], list_new[i] = list_new[i], list_new[r]\n",
    "    return list_new\n",
    "\n",
    "\n",
    "# main function : to tansfer a group of number with odd before even ,and odd sortes in descending order ,\n",
    "# even number is opposite :\n",
    "# with max complexity at O(log n)\n",
    "def num_orders(numbers):\n",
    "    odd = []\n",
    "    even = []\n",
    "    for number in numbers :\n",
    "            if number %2==1:\n",
    "                odd.append(number)\n",
    "            else:\n",
    "                even.append(number)\n",
    "\n",
    "    sort_list_big(odd)\n",
    "    even.sort()\n",
    "    orders = odd + even \n",
    "    return orders\n"
   ]
  },
  {
   "cell_type": "code",
   "execution_count": 4,
   "id": "363c0fe8",
   "metadata": {},
   "outputs": [
    {
     "name": "stdout",
     "output_type": "stream",
     "text": [
      "enter the numbers of houses ： 1, 2, 3, 5, 4, 7, 10\n",
      "the final order result is :[7, 5, 3, 1, 2, 4, 10]\n"
     ]
    }
   ],
   "source": [
    "# final code :\n",
    "lists = input('enter the numbers of houses ： ')   \n",
    "a=number_convert2(lists)\n",
    "#print(a)\n",
    "b= num_orders(a) \n",
    "print('the final order result is :'+ str(b))"
   ]
  },
  {
   "cell_type": "markdown",
   "id": "0d325e14",
   "metadata": {},
   "source": [
    "# conclusion of  complexity :\n",
    "\n",
    "to achieve the function of sorting numbers  with odd numbers comes fisrt with descending order\n",
    "and even numbers come after odd numbers， with ascending order I create 3 functions , with max \n",
    "complexity at O(n^2) , with nested loop structure in the  function (sort_list_big())that aims for \n",
    "sorting numbers order with descending way .\n"
   ]
  }
 ],
 "metadata": {
  "kernelspec": {
   "display_name": "Python 3",
   "language": "python",
   "name": "python3"
  },
  "language_info": {
   "codemirror_mode": {
    "name": "ipython",
    "version": 3
   },
   "file_extension": ".py",
   "mimetype": "text/x-python",
   "name": "python",
   "nbconvert_exporter": "python",
   "pygments_lexer": "ipython3",
   "version": "3.8.8"
  }
 },
 "nbformat": 4,
 "nbformat_minor": 5
}
