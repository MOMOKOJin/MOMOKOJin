{
 "cells": [
  {
   "cell_type": "markdown",
   "id": "e02e82a0",
   "metadata": {},
   "source": [
    "Part 2\n",
    "\n",
    "Input: {1, 2, 3, 5, 4, 7, 10} Output: {7, 5, 3, 1, 2, 4, 10} Input: {0, 4, 5, 3, 7, 2, 1} Output: {7, 5, 3, 1, 0, 2, 4}"
   ]
  },
  {
   "cell_type": "code",
   "execution_count": 6,
   "id": "b564fd0c",
   "metadata": {},
   "outputs": [
    {
     "name": "stdout",
     "output_type": "stream",
     "text": [
      "1,3,10\n"
     ]
    }
   ],
   "source": [
    "#设计一个输入数字自动转列表的函数，但是现在对于10的转译有困难\n",
    "# input str ,以，分割 ， 然后转int \n",
    "def number_convert2(number_list):\n",
    "    A = number_list.split(',')\n",
    "    #print(A)\n",
    "    B = []\n",
    "    for a in A :\n",
    "        b = int(a)\n",
    "        #print(b)\n",
    "        B.append(b) \n",
    "    return B \n",
    "    \n",
    "number_list1=input('')\n",
    "number_convert2(number_list1)\n",
    "\n",
    "#将str以切片的方式转化， 对双位数无办法。所以不太行\n",
    "def number_convert(A):\n",
    "    B=[]\n",
    "    for i in range (len(A)):\n",
    "        if A[i]==',':\n",
    "            continue\n",
    "        elif A[i]==' ':\n",
    "            continue\n",
    "        else :\n",
    "            b= int(A[i])\n",
    "            B.append(b) \n",
    "    return B\n",
    "    print(B) \n",
    "    \n",
    "# 奇数列倒序排列\n",
    "def sort_list_big(list_new):\n",
    "    \"\"\"\n",
    "    list排序算法.降序排列\n",
    "    :param list_new:列表形参\n",
    "    :return:\n",
    "    \"\"\"\n",
    "    for r in range(len(list_new) - 1):\n",
    "        # 作对比\n",
    "        for i in range(r + 1, len(list_new)):\n",
    "            # 找更大\n",
    "            if list_new[r] < list_new[i]:\n",
    "                # 做交换\n",
    "                list_new[r], list_new[i] = list_new[i], list_new[r]\n",
    "    return list_new\n",
    "\n",
    "# 数列排列方法   \n",
    "def num_orders(numbers):\n",
    "    odd = []\n",
    "    even = []\n",
    "    for number in numbers :\n",
    "            if number %2==1:\n",
    "                odd.append(number)\n",
    "            else:\n",
    "                even.append(number)\n",
    "\n",
    "    sort_list_big(odd)\n",
    "    even.sort()\n",
    "    orders = odd + even \n",
    "    return orders\n",
    "    \n",
    "\n",
    "\n"
   ]
  },
  {
   "cell_type": "code",
   "execution_count": 7,
   "id": "c2120fe5",
   "metadata": {},
   "outputs": [
    {
     "name": "stdout",
     "output_type": "stream",
     "text": [
      "1,3,10\n",
      "['1', '3', '10']\n"
     ]
    },
    {
     "data": {
      "text/plain": [
       "[1, 3, 10]"
      ]
     },
     "execution_count": 7,
     "metadata": {},
     "output_type": "execute_result"
    }
   ],
   "source": [
    "num_list=input('')\n",
    "A = num_list.split(',') \n",
    "print(A)\n",
    "#print(type(A))\n",
    "#print(A[0])\n",
    "B=[]\n",
    "for a in A :\n",
    "    #print(a)\n",
    "    #print(type(a))\n",
    "    b=int(a)\n",
    "    #print(type(b))\n",
    "    B.append(b)\n",
    "B"
   ]
  },
  {
   "cell_type": "code",
   "execution_count": 8,
   "id": "4b8b4930",
   "metadata": {},
   "outputs": [
    {
     "name": "stdout",
     "output_type": "stream",
     "text": [
      "1,3,10\n"
     ]
    },
    {
     "data": {
      "text/plain": [
       "[1, 3, 10]"
      ]
     },
     "execution_count": 8,
     "metadata": {},
     "output_type": "execute_result"
    }
   ],
   "source": [
    "def number_convert2(number_list):\n",
    "    A = number_list.split(',')\n",
    "    #print(A)\n",
    "    B = []\n",
    "    for a in A :\n",
    "        b = int(a)\n",
    "        #print(b)\n",
    "        B.append(b) \n",
    "    return B \n",
    "    \n",
    "number_list1=input('')\n",
    "number_convert2(number_list1)\n",
    "\n"
   ]
  },
  {
   "cell_type": "code",
   "execution_count": 9,
   "id": "363c0fe8",
   "metadata": {},
   "outputs": [
    {
     "name": "stdout",
     "output_type": "stream",
     "text": [
      "enter the numbers of houses ： 1,3,10,4,5\n",
      "the final order result is :[5, 3, 1, 4, 10]\n"
     ]
    }
   ],
   "source": [
    "\n",
    "lists = input('enter the numbers of houses ： ')   \n",
    "a=number_convert2(lists)\n",
    "#print(a)\n",
    "b= num_orders(a)\n",
    "print('the final order result is :'+ str(b))"
   ]
  },
  {
   "cell_type": "code",
   "execution_count": null,
   "id": "c165c1b2",
   "metadata": {},
   "outputs": [],
   "source": []
  }
 ],
 "metadata": {
  "kernelspec": {
   "display_name": "Python 3",
   "language": "python",
   "name": "python3"
  },
  "language_info": {
   "codemirror_mode": {
    "name": "ipython",
    "version": 3
   },
   "file_extension": ".py",
   "mimetype": "text/x-python",
   "name": "python",
   "nbconvert_exporter": "python",
   "pygments_lexer": "ipython3",
   "version": "3.8.8"
  }
 },
 "nbformat": 4,
 "nbformat_minor": 5
}
